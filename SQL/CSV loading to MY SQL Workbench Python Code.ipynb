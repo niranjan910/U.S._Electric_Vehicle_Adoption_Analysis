{
 "cells": [
  {
   "cell_type": "markdown",
   "id": "20cd1d1c-0124-4f86-8cbd-b726b1a74714",
   "metadata": {},
   "source": [
    "### *Database Automation*\n",
    "#### *Automate MySQL workflows using Pandas*"
   ]
  },
  {
   "cell_type": "code",
   "execution_count": 1,
   "id": "dfca6c9e-734b-4cd3-ad47-b48da4459bfa",
   "metadata": {},
   "outputs": [
    {
     "name": "stdout",
     "output_type": "stream",
     "text": [
      "Requirement already satisfied: pandas in c:\\users\\asus\\anaconda3\\lib\\site-packages (2.2.3)\n",
      "Requirement already satisfied: sqlalchemy in c:\\users\\asus\\anaconda3\\lib\\site-packages (2.0.39)\n",
      "Requirement already satisfied: pymysql in c:\\users\\asus\\anaconda3\\lib\\site-packages (1.1.1)\n",
      "Requirement already satisfied: numpy>=1.26.0 in c:\\users\\asus\\anaconda3\\lib\\site-packages (from pandas) (1.26.4)\n",
      "Requirement already satisfied: python-dateutil>=2.8.2 in c:\\users\\asus\\anaconda3\\lib\\site-packages (from pandas) (2.9.0.post0)\n",
      "Requirement already satisfied: pytz>=2020.1 in c:\\users\\asus\\anaconda3\\lib\\site-packages (from pandas) (2024.1)\n",
      "Requirement already satisfied: tzdata>=2022.7 in c:\\users\\asus\\anaconda3\\lib\\site-packages (from pandas) (2023.3)\n",
      "Requirement already satisfied: greenlet!=0.4.17 in c:\\users\\asus\\anaconda3\\lib\\site-packages (from sqlalchemy) (3.0.1)\n",
      "Requirement already satisfied: typing-extensions>=4.6.0 in c:\\users\\asus\\anaconda3\\lib\\site-packages (from sqlalchemy) (4.11.0)\n",
      "Requirement already satisfied: six>=1.5 in c:\\users\\asus\\anaconda3\\lib\\site-packages (from python-dateutil>=2.8.2->pandas) (1.16.0)\n",
      "Note: you may need to restart the kernel to use updated packages.\n"
     ]
    }
   ],
   "source": [
    "pip install pandas sqlalchemy pymysql"
   ]
  },
  {
   "cell_type": "code",
   "execution_count": 2,
   "id": "104f52af-ee8d-470a-9943-e3b40ac85f12",
   "metadata": {},
   "outputs": [
    {
     "name": "stdout",
     "output_type": "stream",
     "text": [
      "Data uploaded successfully!\n"
     ]
    }
   ],
   "source": [
    "import pandas as pd\n",
    "from sqlalchemy import create_engine\n",
    "\n",
    "# MySQL connection info\n",
    "host = 'localhost'\n",
    "user = 'root'           \n",
    "password = '0231'\n",
    "database = 'U_S_Electric_Vehicle_Adoption_Analysis'\n",
    "table_name = 'ev_trends'\n",
    "\n",
    "# CSV path (use raw string to handle backslashes and spaces)\n",
    "csv_file_path = r'E:\\Data Analyst 2025\\Resume Projects\\1. Evolution Insight US EV Trends\\EvolutionInsight_US_EV_Trends.csv'\n",
    "\n",
    "# Load CSV\n",
    "df = pd.read_csv(csv_file_path)\n",
    "\n",
    "# Create engine\n",
    "engine = create_engine(f'mysql+pymysql://{user}:{password}@{host}/{database}')\n",
    "\n",
    "# Upload DataFrame to MySQL table\n",
    "df.to_sql(name=table_name, con=engine, if_exists='replace', index=False)\n",
    "\n",
    "print(\"Data uploaded successfully!\")"
   ]
  }
 ],
 "metadata": {
  "kernelspec": {
   "display_name": "Python 3 (ipykernel)",
   "language": "python",
   "name": "python3"
  },
  "language_info": {
   "codemirror_mode": {
    "name": "ipython",
    "version": 3
   },
   "file_extension": ".py",
   "mimetype": "text/x-python",
   "name": "python",
   "nbconvert_exporter": "python",
   "pygments_lexer": "ipython3",
   "version": "3.12.7"
  }
 },
 "nbformat": 4,
 "nbformat_minor": 5
}
